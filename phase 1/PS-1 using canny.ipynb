{
 "cells": [
  {
   "cell_type": "code",
   "execution_count": 21,
   "metadata": {},
   "outputs": [],
   "source": [
    "import numpy as np\n",
    "import cv2\n",
    "                # we will read the image directly as a grayscale image\n",
    "img = cv2.imread('sample 4.png', cv2.IMREAD_GRAYSCALE) # gaussian filter is not used explicitly as it is already included in the canny function itself"
   ]
  },
  {
   "cell_type": "code",
   "execution_count": 22,
   "metadata": {},
   "outputs": [],
   "source": [
    "img = cv2.Canny(img,50,200)\n",
    "#img = cv2.dilate(img, None, iterations = 1)  # increases white portion by using a kernal such that atleast one element within should be white.\n",
    "#img = cv2.erode(img, None, iterations = 1)   # reduces white portion by using a kernal such that all elements within should be white.\n",
    "\n",
    "# I'm not using above functions for saving processing time in the later part of the code (for finding length). "
   ]
  },
  {
   "cell_type": "code",
   "execution_count": 23,
   "metadata": {},
   "outputs": [
    {
     "data": {
      "text/plain": [
       "(198, 254)"
      ]
     },
     "execution_count": 23,
     "metadata": {},
     "output_type": "execute_result"
    }
   ],
   "source": [
    "h,w = img.shape  #image dimensions\n",
    "h,w"
   ]
  },
  {
   "cell_type": "code",
   "execution_count": 24,
   "metadata": {},
   "outputs": [
    {
     "name": "stdout",
     "output_type": "stream",
     "text": [
      "[[[ 10  10 245 194]]\n",
      "\n",
      " [[  9   4 249 192]]]\n"
     ]
    }
   ],
   "source": [
    "lines = cv2.HoughLines(img,1,np.pi/180,150)  # HoughLines function gives an output of a 2d-array containing rho and theta values for the corresponding line equations which crossed the vote limit of 200.  \n",
    "#no_of_lines = len(lines) # this gives no. of edges lines identified and crossed vote limit by hough transformation.\n",
    "print(lines)            "
   ]
  },
  {
   "cell_type": "code",
   "execution_count": 34,
   "metadata": {},
   "outputs": [
    {
     "data": {
      "text/plain": [
       "128"
      ]
     },
     "execution_count": 34,
     "metadata": {},
     "output_type": "execute_result"
    }
   ],
   "source": [
    "line_lengths = np.zeros(no_of_lines,dtype = int)  # to record the line lengths.\n",
    "line_spacing = []\n",
    "line_lengths  \n",
    "#lines[2][0][0]\n",
    "line = lines[0]\n",
    "round(math.degrees(line[0][1]))  # just for calculation purposes"
   ]
  },
  {
   "cell_type": "code",
   "execution_count": 64,
   "metadata": {},
   "outputs": [
    {
     "name": "stdout",
     "output_type": "stream",
     "text": [
      "122\n",
      "123\n",
      "128\n",
      "129\n",
      "130\n"
     ]
    },
    {
     "data": {
      "text/plain": [
       "-19.0"
      ]
     },
     "execution_count": 64,
     "metadata": {},
     "output_type": "execute_result"
    }
   ],
   "source": [
    "for i in range(0,254):\n",
    "    if(img[98][i]==255):\n",
    "        print(i)\n",
    "round(98*np.sin(128) + 130*np.cos(128))"
   ]
  },
  {
   "cell_type": "code",
   "execution_count": 36,
   "metadata": {},
   "outputs": [
    {
     "data": {
      "text/plain": [
       "array([10, 68])"
      ]
     },
     "execution_count": 36,
     "metadata": {},
     "output_type": "execute_result"
    }
   ],
   "source": [
    "import math\n",
    "\n",
    "for i in range(0,h):\n",
    "    for j in range(0,w):\n",
    "        if (img[i][j] == 255):\n",
    "            for a in range(0,no_of_lines):\n",
    "                temp = lines[a]\n",
    "                rho = temp[0][0]; theta = temp[0][1]\n",
    "                theta = round(math.degrees(theta))\n",
    "                if (rho == ((j*(np.cos(theta)))+i*(np.sin(theta)))):\n",
    "                    line_lengths[a] = line_lengths[a]+1\n",
    "\n",
    "line_lengths   # the above loop is for calculating the no. of pixels on the edge. So, the line lengths are calculated in terms of pixel units. We can convert the calculated lengths into other units (say metres) by simply using pixel to metric ratio."
   ]
  },
  {
   "cell_type": "code",
   "execution_count": 13,
   "metadata": {},
   "outputs": [
    {
     "data": {
      "text/plain": [
       "[['distance between lines 0  and  1', 4.0]]"
      ]
     },
     "execution_count": 13,
     "metadata": {},
     "output_type": "execute_result"
    }
   ],
   "source": [
    "for i in range(0,no_of_lines-1):\n",
    "    for j in range(i+1,no_of_lines):\n",
    "        if (lines[i][0][1] == lines[j][0][1]):\n",
    "            string = \"distance between lines\"+\" \"+str(i)+\" \"+\" and \"+\" \"+str(j)\n",
    "            dist = abs(lines[i][0][0]-lines[j][0][0])\n",
    "            line_spacing.append([string,dist])\n",
    "        else:\n",
    "            string = \"lines \"+str(i)+\" and \"+str(j)+\" are not parallel.\"\n",
    "            dist = 0\n",
    "            line_spacing.append([string,dist])\n",
    "            \n",
    "line_spacing  # this list gives us the line spacing between every possible line combination."
   ]
  },
  {
   "cell_type": "code",
   "execution_count": null,
   "metadata": {},
   "outputs": [],
   "source": [
    "cv2.namedWindow('img',cv2.WINDOW_NORMAL)\n",
    "cv2.imshow('img', img)\n",
    "\n",
    "cv2.waitKey(0)"
   ]
  },
  {
   "cell_type": "code",
   "execution_count": 11,
   "metadata": {},
   "outputs": [
    {
     "data": {
      "text/plain": [
       "True"
      ]
     },
     "execution_count": 11,
     "metadata": {},
     "output_type": "execute_result"
    }
   ],
   "source": [
    "cv2.imwrite('canny image3.jpg', img)"
   ]
  },
  {
   "cell_type": "code",
   "execution_count": null,
   "metadata": {},
   "outputs": [],
   "source": []
  }
 ],
 "metadata": {
  "kernelspec": {
   "display_name": "Python 3",
   "language": "python",
   "name": "python3"
  },
  "language_info": {
   "codemirror_mode": {
    "name": "ipython",
    "version": 3
   },
   "file_extension": ".py",
   "mimetype": "text/x-python",
   "name": "python",
   "nbconvert_exporter": "python",
   "pygments_lexer": "ipython3",
   "version": "3.7.6"
  }
 },
 "nbformat": 4,
 "nbformat_minor": 4
}
