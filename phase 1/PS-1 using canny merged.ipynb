{
 "cells": [
  {
   "cell_type": "code",
   "execution_count": 3,
   "metadata": {},
   "outputs": [
    {
     "name": "stdout",
     "output_type": "stream",
     "text": [
      "95.3 ms ± 5.02 ms per loop (mean ± std. dev. of 7 runs, 10 loops each)\n"
     ]
    }
   ],
   "source": [
    "%%timeit\n",
    "import numpy as np\n",
    "import cv2                # we will read the image directly as a grayscale image\n",
    "img = cv2.imread('sample 4.png', cv2.IMREAD_GRAYSCALE) # gaussian filter is not used explicitly as it is already included in the canny function itself\n",
    "img = cv2.Canny(img,50,200)\n",
    "h,w = img.shape  #image dimensions\n",
    "#print(h,w)\n",
    "lines = cv2.HoughLines(img,1,np.pi/180,150)  # HoughLines function gives an output of a 2d-array containing rho and theta values for the corresponding line equations which crossed the vote limit of 200.  \n",
    "no_of_lines = len(lines) # this gives no. of edges lines identified and crossed vote limit by hough transformation.\n",
    "#print(lines)\n",
    "line_lengths = np.zeros(no_of_lines,dtype = int)  # to record the line lengths.\n",
    "line_spacing = []  \n",
    "import math\n",
    "for i in range(0,h):\n",
    "    for j in range(0,w):\n",
    "        if (img[i][j] == 255):\n",
    "            for a in range(0,no_of_lines):\n",
    "                temp = lines[a]\n",
    "                rho = temp[0][0]; theta = temp[0][1]\n",
    "                theta = round(math.degrees(theta))\n",
    "                if (rho == (round(j*(np.cos(theta)))+i*(np.sin(theta)))):\n",
    "                    line_lengths[a] = line_lengths[a]+1\n",
    "#print(line_lengths) \n",
    "for i in range(0,no_of_lines-1):\n",
    "    for j in range(i+1,no_of_lines):\n",
    "        if (lines[i][0][1] == lines[j][0][1]):\n",
    "            string = \"distance between lines\"+\" \"+str(i)+\" \"+\" and \"+\" \"+str(j)\n",
    "            dist = abs(lines[i][0][0]-lines[j][0][0])\n",
    "            line_spacing.append([string,dist])\n",
    "        else:\n",
    "            string = \"lines \"+str(i)+\" and \"+str(j)+\" are not parallel.\"\n",
    "            dist = 0\n",
    "            line_spacing.append([string,dist])\n",
    "#line_spacing  # this list gives us the line spacing between every possible line combination.\n",
    "#cv2.namedWindow('img',cv2.WINDOW_NORMAL)\n",
    "#cv2.imshow('img', img)\n",
    "#cv2.waitKey(0)\n",
    "#cv2.destroyAllWindows()\n",
    "\n",
    "cv2.imwrite('canny image3.jpg', img)"
   ]
  },
  {
   "cell_type": "code",
   "execution_count": null,
   "metadata": {},
   "outputs": [],
   "source": []
  }
 ],
 "metadata": {
  "kernelspec": {
   "display_name": "Python 3",
   "language": "python",
   "name": "python3"
  },
  "language_info": {
   "codemirror_mode": {
    "name": "ipython",
    "version": 3
   },
   "file_extension": ".py",
   "mimetype": "text/x-python",
   "name": "python",
   "nbconvert_exporter": "python",
   "pygments_lexer": "ipython3",
   "version": "3.7.6"
  }
 },
 "nbformat": 4,
 "nbformat_minor": 4
}
