{
 "cells": [
  {
   "cell_type": "markdown",
   "metadata": {},
   "source": [
    "# Image Processing with OpenCV"
   ]
  },
  {
   "cell_type": "code",
   "execution_count": 2,
   "metadata": {},
   "outputs": [],
   "source": [
    "#importing the necessary libraries\n",
    "import numpy as np\n",
    "import cv2\n",
    "import matplotlib.pyplot as plt"
   ]
  },
  {
   "cell_type": "code",
   "execution_count": 3,
   "metadata": {},
   "outputs": [],
   "source": [
    "# open the image\n",
    "img = cv2.imread('sample image-1.jpeg')\n",
    "\n",
    "img_canny = cv2.Canny(img, 0,255)"
   ]
  },
  {
   "cell_type": "code",
   "execution_count": 56,
   "metadata": {},
   "outputs": [
    {
     "data": {
      "text/plain": [
       "array([[[137, 150, 152],\n",
       "        [137, 150, 152],\n",
       "        [137, 150, 152],\n",
       "        ...,\n",
       "        [130, 142, 148],\n",
       "        [130, 142, 148],\n",
       "        [130, 142, 148]],\n",
       "\n",
       "       [[137, 150, 152],\n",
       "        [137, 150, 152],\n",
       "        [137, 150, 152],\n",
       "        ...,\n",
       "        [130, 142, 148],\n",
       "        [130, 142, 148],\n",
       "        [130, 142, 148]],\n",
       "\n",
       "       [[137, 150, 152],\n",
       "        [137, 150, 152],\n",
       "        [137, 150, 152],\n",
       "        ...,\n",
       "        [130, 142, 148],\n",
       "        [130, 142, 148],\n",
       "        [130, 142, 148]],\n",
       "\n",
       "       ...,\n",
       "\n",
       "       [[152, 158, 163],\n",
       "        [153, 159, 164],\n",
       "        [153, 159, 164],\n",
       "        ...,\n",
       "        [127, 140, 142],\n",
       "        [127, 140, 142],\n",
       "        [127, 140, 142]],\n",
       "\n",
       "       [[152, 158, 163],\n",
       "        [152, 158, 163],\n",
       "        [152, 158, 163],\n",
       "        ...,\n",
       "        [127, 140, 142],\n",
       "        [127, 140, 142],\n",
       "        [127, 140, 142]],\n",
       "\n",
       "       [[151, 157, 162],\n",
       "        [152, 158, 163],\n",
       "        [152, 158, 163],\n",
       "        ...,\n",
       "        [127, 140, 142],\n",
       "        [127, 140, 142],\n",
       "        [126, 139, 141]]], dtype=uint8)"
      ]
     },
     "execution_count": 56,
     "metadata": {},
     "output_type": "execute_result"
    }
   ],
   "source": [
    "img"
   ]
  },
  {
   "cell_type": "code",
   "execution_count": 57,
   "metadata": {},
   "outputs": [],
   "source": [
    "img = cv2.cvtColor(img, cv2.COLOR_BGR2GRAY) # convert to gray\n",
    "img = cv2.GaussianBlur(img,(3,3),0)"
   ]
  },
  {
   "cell_type": "code",
   "execution_count": 58,
   "metadata": {},
   "outputs": [
    {
     "data": {
      "text/plain": [
       "array([[149, 149, 149, ..., 142, 142, 142],\n",
       "       [149, 149, 149, ..., 142, 142, 142],\n",
       "       [149, 149, 149, ..., 142, 142, 142],\n",
       "       ...,\n",
       "       [160, 160, 160, ..., 139, 139, 139],\n",
       "       [159, 159, 159, ..., 139, 139, 139],\n",
       "       [159, 159, 159, ..., 139, 139, 139]], dtype=uint8)"
      ]
     },
     "execution_count": 58,
     "metadata": {},
     "output_type": "execute_result"
    }
   ],
   "source": [
    "img"
   ]
  },
  {
   "cell_type": "code",
   "execution_count": 59,
   "metadata": {},
   "outputs": [
    {
     "name": "stdout",
     "output_type": "stream",
     "text": [
      "960 1280\n"
     ]
    }
   ],
   "source": [
    "h ,v= img.shape    #image dimensions\n",
    "print(h,v)"
   ]
  },
  {
   "cell_type": "code",
   "execution_count": 60,
   "metadata": {},
   "outputs": [
    {
     "name": "stdout",
     "output_type": "stream",
     "text": [
      "171 68 159.59478190104167\n"
     ]
    }
   ],
   "source": [
    "print(np.max(img), np.min(img), np.mean(img))"
   ]
  },
  {
   "cell_type": "code",
   "execution_count": 61,
   "metadata": {},
   "outputs": [
    {
     "name": "stdout",
     "output_type": "stream",
     "text": [
      "155.0\n"
     ]
    }
   ],
   "source": [
    "thresh,img = cv2.threshold(img, 165, 255, cv2.THRESH_BINARY | cv2.THRESH_OTSU) #thresholding using otsu's method\n",
    "\n",
    "print(thresh) #threshold value"
   ]
  },
  {
   "cell_type": "code",
   "execution_count": 62,
   "metadata": {},
   "outputs": [
    {
     "data": {
      "text/plain": [
       "<matplotlib.image.AxesImage at 0x2268b14e288>"
      ]
     },
     "execution_count": 62,
     "metadata": {},
     "output_type": "execute_result"
    },
    {
     "data": {
      "image/png": "[encoded data removed]",
      "text/plain": [
       "<Figure size 432x288 with 1 Axes>"
      ]
     },
     "metadata": {
      "needs_background": "light"
     },
     "output_type": "display_data"
    }
   ],
   "source": [
    "#cv2.imshow('binary image', img)\n",
    "\n",
    "#cv2.waitKey(0)\n",
    "%matplotlib inline\n",
    "plt.imshow(binary)"
   ]
  },
  {
   "cell_type": "code",
   "execution_count": 63,
   "metadata": {},
   "outputs": [
    {
     "data": {
      "text/plain": [
       "True"
      ]
     },
     "execution_count": 63,
     "metadata": {},
     "output_type": "execute_result"
    }
   ],
   "source": [
    "cv2.imwrite('binary image.jpg', img)\n"
   ]
  },
  {
   "cell_type": "code",
   "execution_count": 5,
   "metadata": {},
   "outputs": [
    {
     "data": {
      "text/plain": [
       "True"
      ]
     },
     "execution_count": 5,
     "metadata": {},
     "output_type": "execute_result"
    }
   ],
   "source": [
    "cv2.imwrite('canny img.jpg', img_canny)"
   ]
  },
  {
   "cell_type": "code",
   "execution_count": null,
   "metadata": {},
   "outputs": [],
   "source": [
    "contours,hierarchy = cv2.findContours(img,cv2.RETR_EXTERNAL,cv2.CHAIN_APPROX_SIMPLE)\n",
    "contours"
   ]
  },
  {
   "cell_type": "code",
   "execution_count": null,
   "metadata": {},
   "outputs": [],
   "source": [
    "cv2.drawContours(contour_image,contours,-1,(0,255,0))"
   ]
  },
  {
   "cell_type": "code",
   "execution_count": null,
   "metadata": {},
   "outputs": [],
   "source": []
  }
 ],
 "metadata": {
  "kernelspec": {
   "display_name": "Python 3",
   "language": "python",
   "name": "python3"
  },
  "language_info": {
   "codemirror_mode": {
    "name": "ipython",
    "version": 3
   },
   "file_extension": ".py",
   "mimetype": "text/x-python",
   "name": "python",
   "nbconvert_exporter": "python",
   "pygments_lexer": "ipython3",
   "version": "3.7.6"
  }
 },
 "nbformat": 4,
 "nbformat_minor": 4
}
