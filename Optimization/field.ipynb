{
 "cells": [
  {
   "cell_type": "code",
   "execution_count": 8,
   "metadata": {},
   "outputs": [],
   "source": [
    "\n",
    "import numpy as np\n",
    "import math\n",
    "import cv2\n",
    "                # we will read the image directly as a grayscale image\n",
    "img = cv2.imread('field 1-1.jpg', cv2.IMREAD_UNCHANGED) # gaussian filter is not used explicitly as it is already included in the canny function itself\n",
    "#img = cv2.imread('field 1-3.jpg', cv2.IMREAD_UNCHANGED)\n",
    "roi = img[600:1800, 50:440]\n",
    "#roi = img[1000:1400, 100:440]\n",
    "roi = cv2.GaussianBlur(roi,(3,3),0)\n",
    "roi2 = roi.copy()\n",
    "roi = cv2.cvtColor(roi, cv2.COLOR_BGR2GRAY)\n",
    "\n",
    "#b,g,r = cv2.split(roi)\n",
    "roi = cv2.Sobel(roi,cv2.CV_8U,1,1)\n",
    "#roi = cv2.adaptiveThreshold(roi,255,cv2.ADAPTIVE_THRESH_GAUSSIAN_C,cv2.THRESH_BINARY,9,10)\n",
    "#roi = cv2.Canny(roi,100,550,3)"
   ]
  },
  {
   "cell_type": "code",
   "execution_count": 650,
   "metadata": {},
   "outputs": [],
   "source": [
    "pixel_to_metric = 134.0596881\n",
    "initial_pole =  464.0387914819\n",
    "intial_angle = 89.26"
   ]
  },
  {
   "cell_type": "code",
   "execution_count": 651,
   "metadata": {},
   "outputs": [
    {
     "data": {
      "text/plain": [
       "array([[[ 47, 607, 385, 786]],\n",
       "\n",
       "       [[  1, 585, 388, 774]],\n",
       "\n",
       "       [[327, 764, 327, 562]],\n",
       "\n",
       "       [[337, 769, 337, 455]],\n",
       "\n",
       "       [[  1, 595, 388, 759]],\n",
       "\n",
       "       [[328, 575, 328, 457]],\n",
       "\n",
       "       [[338, 770, 338, 455]],\n",
       "\n",
       "       [[ 17, 592, 387, 780]]], dtype=int32)"
      ]
     },
     "execution_count": 651,
     "metadata": {},
     "output_type": "execute_result"
    }
   ],
   "source": [
    "lines = cv2.HoughLinesP(roi,1,np.pi/180,100,maxLineGap = 100)  # HoughLines function gives an output of a 2d-array containing rho and theta values for the corresponding line equations which crossed the vote limit of 200.  \n",
    "no_of_lines = len(lines)\n",
    "print(lines)"
   ]
  },
  {
   "cell_type": "code",
   "execution_count": 652,
   "metadata": {},
   "outputs": [
    {
     "name": "stdout",
     "output_type": "stream",
     "text": [
      "[array([327, 764, 327, 562], dtype=int32), array([337, 769, 337, 455], dtype=int32), array([328, 575, 328, 457], dtype=int32), array([338, 770, 338, 455], dtype=int32)] [90, 90, 90, 90]\n"
     ]
    }
   ],
   "source": [
    "edges = []\n",
    "angles= []\n",
    "lengths = []\n",
    "for i in range(no_of_lines):\n",
    "    if ((lines[i][0][3]-lines[i][0][1]) != 0 and (lines[i][0][2]-lines[i][0][0]) != 0):\n",
    "        ang = abs(math.degrees(math.atan((lines[i][0][3]-lines[i][0][1])/(lines[i][0][2]-lines[i][0][0]))))\n",
    "        if (abs(90 - ang) <= 5):\n",
    "            edges.append(lines[i][0])\n",
    "            angles.append(ang)\n",
    "            lengths.append(math.sqrt((lines[i][0][2]-lines[i][0][0])**2 + (lines[i][0][3]-lines[i][0][1])**2))\n",
    "    elif ((lines[i][0][2]-lines[i][0][0]) == 0):\n",
    "        edges.append(lines[i][0])\n",
    "        angles.append(90)\n",
    "        lengths.append(math.sqrt((lines[i][0][2]-lines[i][0][0])**2 + (lines[i][0][3]-lines[i][0][1])**2))\n",
    "    #else:\n",
    "        #angles.append(0)\n",
    "        #lengths.append(sqrt((lines[i][0][2]-lines[i][0][0])**2 + (lines[i][0][3]-lines[i][0][1])**2))\n",
    "        \n",
    "temp=angles.copy()\n",
    "print(edges,angles)"
   ]
  },
  {
   "cell_type": "code",
   "execution_count": 653,
   "metadata": {},
   "outputs": [],
   "source": [
    "for i in range(len(edges)):\n",
    "    cv2.line(roi2, (edges[i][0],edges[i][1]), (edges[i][2],edges[i][3]), (0,255,0), 1)\n",
    "#cv2.line(roi2, (lines[2][0][0],lines[2][0][1]), (lines[2][0][2],lines[2][0][3]), (0,255,0), 1)"
   ]
  },
  {
   "cell_type": "code",
   "execution_count": 654,
   "metadata": {},
   "outputs": [
    {
     "data": {
      "text/plain": [
       "array([[[137, 126, 128],\n",
       "        [136, 125, 127],\n",
       "        [136, 125, 127],\n",
       "        ...,\n",
       "        [154, 154, 154],\n",
       "        [154, 154, 154],\n",
       "        [154, 154, 154]],\n",
       "\n",
       "       [[137, 125, 127],\n",
       "        [136, 125, 127],\n",
       "        [135, 124, 126],\n",
       "        ...,\n",
       "        [154, 154, 154],\n",
       "        [154, 154, 154],\n",
       "        [154, 154, 154]],\n",
       "\n",
       "       [[139, 126, 128],\n",
       "        [138, 125, 127],\n",
       "        [135, 123, 125],\n",
       "        ...,\n",
       "        [154, 154, 154],\n",
       "        [154, 154, 154],\n",
       "        [154, 154, 154]],\n",
       "\n",
       "       ...,\n",
       "\n",
       "       [[109,  95,  99],\n",
       "        [109,  95,  99],\n",
       "        [109,  95,  99],\n",
       "        ...,\n",
       "        [110, 110, 101],\n",
       "        [110, 109,  99],\n",
       "        [111, 109,  98]],\n",
       "\n",
       "       [[108,  94,  98],\n",
       "        [108,  94,  98],\n",
       "        [108,  94,  98],\n",
       "        ...,\n",
       "        [108, 108,  98],\n",
       "        [108, 108,  96],\n",
       "        [108, 107,  95]],\n",
       "\n",
       "       [[108,  94,  98],\n",
       "        [108,  94,  98],\n",
       "        [108,  94,  98],\n",
       "        ...,\n",
       "        [107, 108,  98],\n",
       "        [107, 107,  95],\n",
       "        [107, 106,  94]]], dtype=uint8)"
      ]
     },
     "execution_count": 654,
     "metadata": {},
     "output_type": "execute_result"
    }
   ],
   "source": [
    "index = [angles.index(max(angles))]\n",
    "temp[index[0]] = 0\n",
    "index.append(temp.index(max(temp)))\n",
    "\n",
    "\n",
    "if (abs(lengths[0]-lengths[1]) <= 20):\n",
    "    start_point = (int((edges[index[0]][0]+edges[index[1]][0])/2), int((edges[index[0]][1]+edges[index[1]][1])/2))\n",
    "    end_point = (int((edges[index[0]][2]+edges[index[1]][2])/2), int((edges[index[0]][3]+edges[index[1]][3])/2))\n",
    "else:\n",
    "    start_point = (edges[lengths.index(max(lengths))][0],edges[lengths.index(max(lengths))][1])\n",
    "    end_point = (edges[lengths.index(max(lengths))][2], edges[lengths.index(max(lengths))][3])\n",
    "\n",
    "cv2.line(roi2, start_point, end_point, (0,255,0), 1)"
   ]
  },
  {
   "cell_type": "code",
   "execution_count": 655,
   "metadata": {},
   "outputs": [
    {
     "data": {
      "text/plain": [
       "1.11173"
      ]
     },
     "execution_count": 655,
     "metadata": {},
     "output_type": "execute_result"
    }
   ],
   "source": [
    "pole_length = ((start_point[0]-end_point[0])**2 + (start_point[1]-end_point[1])**2)**0.5\n",
    "snow_level = initial_pole - pole_length\n",
    "\n",
    "snow_level_metric = snow_level/pixel_to_metric  #angle of the pole is neglected because only edges with 90 +- 5 is taken and in worst case sin(85) = 0.99\n",
    "snow_level_metric = round(snow_level_metric,5)\n",
    "print(\"snow_level_metric:\",snow_level_metric)"
   ]
  },
  {
   "cell_type": "code",
   "execution_count": 656,
   "metadata": {},
   "outputs": [
    {
     "data": {
      "text/plain": [
       "array([[[137, 126, 128],\n",
       "        [136, 125, 127],\n",
       "        [136, 125, 127],\n",
       "        ...,\n",
       "        [154, 154, 154],\n",
       "        [154, 154, 154],\n",
       "        [154, 154, 154]],\n",
       "\n",
       "       [[137, 125, 127],\n",
       "        [136, 125, 127],\n",
       "        [135, 124, 126],\n",
       "        ...,\n",
       "        [154, 154, 154],\n",
       "        [154, 154, 154],\n",
       "        [154, 154, 154]],\n",
       "\n",
       "       [[139, 126, 128],\n",
       "        [138, 125, 127],\n",
       "        [135, 123, 125],\n",
       "        ...,\n",
       "        [154, 154, 154],\n",
       "        [154, 154, 154],\n",
       "        [154, 154, 154]],\n",
       "\n",
       "       ...,\n",
       "\n",
       "       [[109,  95,  99],\n",
       "        [109,  95,  99],\n",
       "        [109,  95,  99],\n",
       "        ...,\n",
       "        [110, 110, 101],\n",
       "        [110, 109,  99],\n",
       "        [111, 109,  98]],\n",
       "\n",
       "       [[108,  94,  98],\n",
       "        [108,  94,  98],\n",
       "        [108,  94,  98],\n",
       "        ...,\n",
       "        [108, 108,  98],\n",
       "        [108, 108,  96],\n",
       "        [108, 107,  95]],\n",
       "\n",
       "       [[108,  94,  98],\n",
       "        [108,  94,  98],\n",
       "        [108,  94,  98],\n",
       "        ...,\n",
       "        [107, 108,  98],\n",
       "        [107, 107,  95],\n",
       "        [107, 106,  94]]], dtype=uint8)"
      ]
     },
     "execution_count": 656,
     "metadata": {},
     "output_type": "execute_result"
    }
   ],
   "source": [
    "cv2.putText(roi2, str(snow_level_metric), (30,434), cv2.FONT_HERSHEY_SIMPLEX, 0.6, (0,255,0), 2)\n",
    "cv2.putText(roi2, \"mts\", (30,454), cv2.FONT_HERSHEY_SIMPLEX, 0.6, (0,255,0), 2)"
   ]
  },
  {
   "cell_type": "code",
   "execution_count": 9,
   "metadata": {},
   "outputs": [
    {
     "data": {
      "text/plain": [
       "-1"
      ]
     },
     "execution_count": 9,
     "metadata": {},
     "output_type": "execute_result"
    }
   ],
   "source": [
    "cv2.namedWindow('roi',cv2.WINDOW_NORMAL)\n",
    "cv2.imshow('roi',roi)\n",
    "\n",
    "cv2.waitKey(0)"
   ]
  },
  {
   "cell_type": "code",
   "execution_count": 658,
   "metadata": {},
   "outputs": [
    {
     "data": {
      "text/plain": [
       "True"
      ]
     },
     "execution_count": 658,
     "metadata": {},
     "output_type": "execute_result"
    }
   ],
   "source": [
    "cv2.imwrite(\"field 1-3 edited.jpg\", roi2)\n",
    "cv2.imwrite(\"field 1-3 binary.jpg\", roi)"
   ]
  },
  {
   "cell_type": "code",
   "execution_count": 12,
   "metadata": {},
   "outputs": [
    {
     "data": {
      "text/plain": [
       "True"
      ]
     },
     "execution_count": 12,
     "metadata": {},
     "output_type": "execute_result"
    }
   ],
   "source": [
    "cv2.imwrite(\"field 1-1 binary using sobel.jpg\", roi)"
   ]
  },
  {
   "cell_type": "code",
   "execution_count": null,
   "metadata": {},
   "outputs": [],
   "source": []
  }
 ],
 "metadata": {
  "kernelspec": {
   "display_name": "Python 3",
   "language": "python",
   "name": "python3"
  },
  "language_info": {
   "codemirror_mode": {
    "name": "ipython",
    "version": 3
   },
   "file_extension": ".py",
   "mimetype": "text/x-python",
   "name": "python",
   "nbconvert_exporter": "python",
   "pygments_lexer": "ipython3",
   "version": "3.7.6"
  }
 },
 "nbformat": 4,
 "nbformat_minor": 4
}
