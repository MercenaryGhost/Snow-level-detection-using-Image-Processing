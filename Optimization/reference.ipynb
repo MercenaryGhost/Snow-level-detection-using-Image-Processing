{
 "cells": [
  {
   "cell_type": "code",
   "execution_count": 259,
   "metadata": {},
   "outputs": [],
   "source": [
    "import numpy as np\n",
    "import cv2\n",
    "                # we will read the image directly as a grayscale image\n",
    "#img = cv2.imread('reference 1.jpg', cv2.IMREAD_UNCHANGED) # gaussian filter is not used explicitly as it is already included in the canny function itself\n",
    "img = cv2.imread('field 1-2.jpg', cv2.IMREAD_UNCHANGED)\n",
    "roi = img[900:1650, 350:550]\n",
    "roi = cv2.GaussianBlur(roi,(5,5),0)\n",
    "roi2 = roi.copy()\n",
    "roi = cv2.cvtColor(roi, cv2.COLOR_BGR2GRAY)\n",
    "\n",
    "#b,g,r = cv2.split(roi)\n",
    "#roi = cv2.Sobel(roi,cv2.CV_8U,1,1)\n",
    "#roi = cv2.adaptiveThreshold(roi,255,cv2.ADAPTIVE_THRESH_GAUSSIAN_C,cv2.THRESH_BINARY,15,15)\n",
    "roi = cv2.Canny(roi,200,550,3)"
   ]
  },
  {
   "cell_type": "code",
   "execution_count": 20,
   "metadata": {},
   "outputs": [
    {
     "data": {
      "text/plain": [
       "(1944, 2560, 3)"
      ]
     },
     "execution_count": 20,
     "metadata": {},
     "output_type": "execute_result"
    }
   ],
   "source": [
    "img.shape"
   ]
  },
  {
   "cell_type": "code",
   "execution_count": 254,
   "metadata": {},
   "outputs": [
    {
     "name": "stdout",
     "output_type": "stream",
     "text": [
      "(81, 680) (99, 149) [[[ 77 677  95 151]]\n",
      "\n",
      " [[ 85 684 103 148]]]\n"
     ]
    }
   ],
   "source": [
    "lines = cv2.HoughLinesP(roi,1,np.pi/180,200,maxLineGap = 80)  # HoughLines function gives an output of a 2d-array containing rho and theta values for the corresponding line equations which crossed the vote limit of 200.  \n",
    "no_of_lines = len(lines)\n",
    "start_point = (int((lines[0][0][0]+lines[1][0][0])/2), int((lines[0][0][1]+lines[1][0][1])/2))\n",
    "end_point = (int((lines[0][0][2]+lines[1][0][2])/2), int((lines[0][0][3]+lines[1][0][3])/2))\n",
    "\n",
    "cv2.line(roi2, start_point, end_point, (0,255,0), 1)\n",
    "cv2.line(roi2, (81,680), (29,624), (0,255,0), 1)\n",
    "cv2.line(roi2, (99,149),(35,160), (0,255,0), 1)\n",
    "cv2.line(roi2, (29,624),(35,160), (0,255,0), 1)\n",
    "pole_length = (6**2 + 464**2)**0.5\n",
    "\n",
    "cv2.putText(roi2, str(pole_length), (43,442), cv2.FONT_HERSHEY_SIMPLEX, 0.6, (0,255,0), 2)\n",
    "cv2.putText(roi2, \"angle=89.26\", (43,470), cv2.FONT_HERSHEY_SIMPLEX, 0.6, (0,255,0), 2)\n",
    "print(start_point,end_point,lines)"
   ]
  },
  {
   "cell_type": "code",
   "execution_count": 243,
   "metadata": {},
   "outputs": [
    {
     "data": {
      "text/plain": [
       "268.1193763979023"
      ]
     },
     "execution_count": 243,
     "metadata": {},
     "output_type": "execute_result"
    }
   ],
   "source": [
    "cv2.line(roi2, (81,683), (89,415), (0,255,0), 1)\n",
    "pixel_length = (8**2 + 268**2)**0.5\n",
    "cv2.putText(roi2, str(pixel_length/2), (95,550), cv2.FONT_HERSHEY_SIMPLEX, 0.5, (0,255,0), 2)\n",
    "pixel_length"
   ]
  },
  {
   "cell_type": "code",
   "execution_count": 6,
   "metadata": {},
   "outputs": [
    {
     "data": {
      "text/plain": [
       "array([526.30789468, 536.30215364])"
      ]
     },
     "execution_count": 6,
     "metadata": {},
     "output_type": "execute_result"
    }
   ],
   "source": [
    "line_lengths = np.zeros(no_of_lines, dtype = float)\n",
    "\n",
    "for i in range(0,no_of_lines):\n",
    "    y = lines[i][0][3] - lines[i][0][1]\n",
    "    x = lines[i][0][2] - lines[i][0][0]\n",
    "    line_lengths[i] = (y**2 + x**2)**0.5\n",
    "    \n",
    "line_lengths"
   ]
  },
  {
   "cell_type": "code",
   "execution_count": 192,
   "metadata": {},
   "outputs": [
    {
     "data": {
      "text/plain": [
       "-1"
      ]
     },
     "execution_count": 192,
     "metadata": {},
     "output_type": "execute_result"
    }
   ],
   "source": [
    "cv2.namedWindow('img',cv2.WINDOW_NORMAL)\n",
    "cv2.imshow('img',img)\n",
    "\n",
    "cv2.waitKey(0)"
   ]
  },
  {
   "cell_type": "code",
   "execution_count": 260,
   "metadata": {},
   "outputs": [
    {
     "data": {
      "text/plain": [
       "-1"
      ]
     },
     "execution_count": 260,
     "metadata": {},
     "output_type": "execute_result"
    }
   ],
   "source": [
    "cv2.namedWindow('roi',cv2.WINDOW_NORMAL)\n",
    "cv2.imshow('roi',roi)\n",
    "\n",
    "cv2.waitKey(0)"
   ]
  },
  {
   "cell_type": "code",
   "execution_count": 256,
   "metadata": {},
   "outputs": [
    {
     "data": {
      "text/plain": [
       "True"
      ]
     },
     "execution_count": 256,
     "metadata": {},
     "output_type": "execute_result"
    }
   ],
   "source": [
    "#cv2.imwrite(\"field contour outline.jpg\", roi2)\n",
    "#cv2.imwrite(\"field hough line.jpg\", roi)\n",
    "#cv2.imwrite(\"Image pixel to metric ratio.jpg\", roi2)\n",
    "#cv2.imwrite(\"pole inital length.jpg\", roi2)"
   ]
  },
  {
   "cell_type": "code",
   "execution_count": null,
   "metadata": {},
   "outputs": [],
   "source": [
    "snapshot = tracemalloc.take_snapshot()\n",
    "top_stats = snapshot.statistics('lineno')\n",
    "\n",
    "print(\"[ Top 5 ]\")\n",
    "for stat in top_stats[:10]:\n",
    "    print(stat)"
   ]
  }
 ],
 "metadata": {
  "kernelspec": {
   "display_name": "Python 3",
   "language": "python",
   "name": "python3"
  },
  "language_info": {
   "codemirror_mode": {
    "name": "ipython",
    "version": 3
   },
   "file_extension": ".py",
   "mimetype": "text/x-python",
   "name": "python",
   "nbconvert_exporter": "python",
   "pygments_lexer": "ipython3",
   "version": "3.7.6"
  }
 },
 "nbformat": 4,
 "nbformat_minor": 4
}
