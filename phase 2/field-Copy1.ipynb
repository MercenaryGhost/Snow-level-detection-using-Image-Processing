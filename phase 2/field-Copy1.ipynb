{
 "cells": [
  {
   "cell_type": "code",
   "execution_count": 6,
   "metadata": {},
   "outputs": [
    {
     "name": "stdout",
     "output_type": "stream",
     "text": [
      "59 ms ± 572 µs per loop (mean ± std. dev. of 7 runs, 10 loops each)\n"
     ]
    }
   ],
   "source": [
    "%%timeit -n 10\n",
    "import numpy as np\n",
    "import math\n",
    "import cv2\n",
    "                # we will read the image unchanged\n",
    "img = cv2.imread('field 1-3.jpg', cv2.IMREAD_UNCHANGED) \n",
    "roi = img[600:1800, 50:440]\n",
    "roi = cv2.GaussianBlur(roi,(3,3),0)\n",
    "roi2 = roi.copy()\n",
    "roi = cv2.cvtColor(roi, cv2.COLOR_BGR2GRAY)\n",
    "roi = cv2.Canny(roi,100,550,3)\n",
    "\n",
    "pixel_to_metric = 134.0596881\n",
    "initial_pole =  464.0387914819\n",
    "intial_angle = 89.26\n",
    "lines = cv2.HoughLinesP(roi,1,np.pi/180,100,maxLineGap = 100) #Hough transformation. \n",
    "no_of_lines = len(lines)\n",
    "\n",
    "edges = []              #LINE SEPERATION\n",
    "angles= []\n",
    "lengths = []\n",
    "for i in range(no_of_lines):\n",
    "    if ((lines[i][0][3]-lines[i][0][1]) != 0 and (lines[i][0][2]-lines[i][0][0]) != 0):\n",
    "        ang = abs(math.degrees(math.atan((lines[i][0][3]-lines[i][0][1])/(lines[i][0][2]-lines[i][0][0]))))\n",
    "        if (abs(90 - ang) <= 5):\n",
    "            edges.append(lines[i][0])\n",
    "            angles.append(ang)\n",
    "            lengths.append(math.sqrt((lines[i][0][2]-lines[i][0][0])**2 + (lines[i][0][3]-lines[i][0][1])**2))\n",
    "    elif ((lines[i][0][2]-lines[i][0][0]) == 0):\n",
    "        edges.append(lines[i][0])\n",
    "        angles.append(90)\n",
    "        lengths.append(math.sqrt((lines[i][0][2]-lines[i][0][0])**2 + (lines[i][0][3]-lines[i][0][1])**2))\n",
    "temp=angles.copy()\n",
    "\n",
    "for i in range(len(edges)):        #LINES DRAWN\n",
    "    cv2.line(roi2, (edges[i][0],edges[i][1]), (edges[i][2],edges[i][3]), (0,255,0), 1)\n",
    "\n",
    "index = [angles.index(max(angles))]    # 2 LINES CLOSER TWO 90 DEGREES \n",
    "temp[index[0]] = 0\n",
    "index.append(temp.index(max(temp)))\n",
    "\n",
    "                                         # START AND END POINTS\n",
    "if (abs(lengths[0]-lengths[1]) <= 20):    \n",
    "    start_point = (int((edges[index[0]][0]+edges[index[1]][0])/2), int((edges[index[0]][1]+edges[index[1]][1])/2))\n",
    "    end_point = (int((edges[index[0]][2]+edges[index[1]][2])/2), int((edges[index[0]][3]+edges[index[1]][3])/2))\n",
    "else:\n",
    "    start_point = (edges[lengths.index(max(lengths))][0],edges[lengths.index(max(lengths))][1])\n",
    "    end_point = (edges[lengths.index(max(lengths))][2], edges[lengths.index(max(lengths))][3])\n",
    "cv2.line(roi2, start_point, end_point, (0,0,255), 1)\n",
    "\n",
    "               # SNOW LEVEL CALCULATIONS.\n",
    "pole_length = ((start_point[0]-end_point[0])**2 + (start_point[1]-end_point[1])**2)**0.5\n",
    "snow_level = initial_pole - pole_length\n",
    "snow_level_metric = snow_level/pixel_to_metric  #angle of the pole is neglected because only edges with 90 +- 5 is taken and in worst case sin(85) = 0.99\n",
    "snow_level_metric = round(snow_level_metric,5)\n",
    "#print(\"snow_level_metric:\",snow_level_metric)\n",
    "\n",
    "cv2.putText(roi2, str(snow_level_metric), (30,434), cv2.FONT_HERSHEY_SIMPLEX, 0.6, (0,255,0), 2)\n",
    "cv2.putText(roi2, \"mts\", (30,454), cv2.FONT_HERSHEY_SIMPLEX, 0.6, (0,255,0), 2)\n",
    "\n",
    "#cv2.namedWindow('roi',cv2.WINDOW_NORMAL)\n",
    "#cv2.imshow('roi',roi2)\n",
    "\n",
    "#cv2.waitKey(0)\n",
    "\n",
    "#cv2.imwrite(\"field 1-2 edited.jpg\", roi2)\n",
    "#cv2.imwrite(\"field 1-2 binary.jpg\", roi)"
   ]
  },
  {
   "cell_type": "code",
   "execution_count": null,
   "metadata": {},
   "outputs": [],
   "source": []
  },
  {
   "cell_type": "code",
   "execution_count": null,
   "metadata": {},
   "outputs": [],
   "source": []
  }
 ],
 "metadata": {
  "kernelspec": {
   "display_name": "Python 3",
   "language": "python",
   "name": "python3"
  },
  "language_info": {
   "codemirror_mode": {
    "name": "ipython",
    "version": 3
   },
   "file_extension": ".py",
   "mimetype": "text/x-python",
   "name": "python",
   "nbconvert_exporter": "python",
   "pygments_lexer": "ipython3",
   "version": "3.7.6"
  }
 },
 "nbformat": 4,
 "nbformat_minor": 4
}
