{
 "cells": [
  {
   "cell_type": "code",
   "execution_count": 1,
   "metadata": {},
   "outputs": [],
   "source": [
    "import numpy as np\n",
    "import math\n",
    "import cv2\n",
    "                # we will read the image unchanged\n",
    "img = cv2.imread('field 1-2.jpg', cv2.IMREAD_UNCHANGED) \n",
    "#img = cv2.imread('field 1-3.jpg', cv2.IMREAD_UNCHANGED)\n",
    "roi = img[600:1800, 50:440]\n",
    "#roi = img[1000:1400, 100:440]\n",
    "roi = cv2.GaussianBlur(roi,(3,3),0)\n",
    "#roi = cv2.GaussianBlur(roi,(3,3),0)\n",
    "roi2 = roi.copy()\n",
    "roi = cv2.cvtColor(roi, cv2.COLOR_BGR2GRAY)\n",
    "\n",
    "#b,g,r = cv2.split(roi)\n",
    "#roi = cv2.Sobel(roi,cv2.CV_8U,1,1)\n",
    "#roi = cv2.adaptiveThreshold(roi,255,cv2.ADAPTIVE_THRESH_GAUSSIAN_C,cv2.THRESH_BINARY,9,10)\n",
    "roi = cv2.Canny(roi,100,550,3)"
   ]
  },
  {
   "cell_type": "code",
   "execution_count": 741,
   "metadata": {},
   "outputs": [],
   "source": [
    "pixel_to_metric = 134.0596881\n",
    "initial_pole =  464.0387914819\n",
    "intial_angle = 89.26"
   ]
  },
  {
   "cell_type": "code",
   "execution_count": 742,
   "metadata": {},
   "outputs": [
    {
     "name": "stdout",
     "output_type": "stream",
     "text": [
      "[[[338 715 342 448]]\n",
      "\n",
      " [[325 845 326 788]]\n",
      "\n",
      " [[326 846 332 448]]\n",
      "\n",
      " [[340 681 381 875]]\n",
      "\n",
      " [[341 653 387 869]]]\n"
     ]
    }
   ],
   "source": [
    "lines = cv2.HoughLinesP(roi,1,np.pi/180,100,maxLineGap = 100)  # HoughLines function gives an output of a 2d-array containing rho and theta values for the corresponding line equations which crossed the vote limit of 200.  \n",
    "no_of_lines = len(lines)\n",
    "print(lines)"
   ]
  },
  {
   "cell_type": "code",
   "execution_count": 743,
   "metadata": {},
   "outputs": [
    {
     "name": "stdout",
     "output_type": "stream",
     "text": [
      "[array([338, 715, 342, 448], dtype=int32), array([325, 845, 326, 788], dtype=int32), array([326, 846, 332, 448], dtype=int32)] [89.14170046996848, 88.99491399474583, 89.13630995540042]\n"
     ]
    }
   ],
   "source": [
    "edges = []\n",
    "angles= []\n",
    "lengths = []\n",
    "for i in range(no_of_lines):\n",
    "    if ((lines[i][0][3]-lines[i][0][1]) != 0 and (lines[i][0][2]-lines[i][0][0]) != 0):\n",
    "        ang = abs(math.degrees(math.atan((lines[i][0][3]-lines[i][0][1])/(lines[i][0][2]-lines[i][0][0]))))\n",
    "        if (abs(90 - ang) <= 5):\n",
    "            edges.append(lines[i][0])\n",
    "            angles.append(ang)\n",
    "            lengths.append(math.sqrt((lines[i][0][2]-lines[i][0][0])**2 + (lines[i][0][3]-lines[i][0][1])**2))\n",
    "    elif ((lines[i][0][2]-lines[i][0][0]) == 0):\n",
    "        edges.append(lines[i][0])\n",
    "        angles.append(90)\n",
    "        lengths.append(math.sqrt((lines[i][0][2]-lines[i][0][0])**2 + (lines[i][0][3]-lines[i][0][1])**2))\n",
    "    #else:\n",
    "        #angles.append(0)\n",
    "        #lengths.append(sqrt((lines[i][0][2]-lines[i][0][0])**2 + (lines[i][0][3]-lines[i][0][1])**2))\n",
    "        \n",
    "temp=angles.copy()\n",
    "print(edges,angles)"
   ]
  },
  {
   "cell_type": "code",
   "execution_count": 744,
   "metadata": {},
   "outputs": [],
   "source": [
    "for i in range(len(edges)):\n",
    "    cv2.line(roi2, (edges[i][0],edges[i][1]), (edges[i][2],edges[i][3]), (0,255,0), 1)\n",
    "#cv2.line(roi2, (lines[2][0][0],lines[2][0][1]), (lines[2][0][2],lines[2][0][3]), (0,255,0), 1)"
   ]
  },
  {
   "cell_type": "code",
   "execution_count": 745,
   "metadata": {},
   "outputs": [
    {
     "data": {
      "text/plain": [
       "array([[[165, 147, 150],\n",
       "        [162, 148, 150],\n",
       "        [158, 149, 149],\n",
       "        ...,\n",
       "        [183, 183, 183],\n",
       "        [183, 183, 183],\n",
       "        [183, 183, 183]],\n",
       "\n",
       "       [[165, 147, 150],\n",
       "        [162, 148, 150],\n",
       "        [158, 149, 150],\n",
       "        ...,\n",
       "        [187, 187, 187],\n",
       "        [187, 187, 187],\n",
       "        [187, 187, 187]],\n",
       "\n",
       "       [[165, 147, 150],\n",
       "        [163, 148, 150],\n",
       "        [159, 150, 150],\n",
       "        ...,\n",
       "        [191, 191, 191],\n",
       "        [191, 191, 191],\n",
       "        [191, 191, 191]],\n",
       "\n",
       "       ...,\n",
       "\n",
       "       [[140, 121, 124],\n",
       "        [140, 121, 124],\n",
       "        [140, 121, 124],\n",
       "        ...,\n",
       "        [158, 158, 158],\n",
       "        [158, 158, 158],\n",
       "        [158, 158, 158]],\n",
       "\n",
       "       [[140, 121, 124],\n",
       "        [140, 121, 124],\n",
       "        [140, 121, 124],\n",
       "        ...,\n",
       "        [158, 158, 158],\n",
       "        [158, 158, 158],\n",
       "        [159, 159, 159]],\n",
       "\n",
       "       [[140, 121, 124],\n",
       "        [140, 121, 124],\n",
       "        [140, 121, 124],\n",
       "        ...,\n",
       "        [159, 159, 159],\n",
       "        [159, 159, 159],\n",
       "        [159, 159, 159]]], dtype=uint8)"
      ]
     },
     "execution_count": 745,
     "metadata": {},
     "output_type": "execute_result"
    }
   ],
   "source": [
    "index = [angles.index(max(angles))]\n",
    "temp[index[0]] = 0\n",
    "index.append(temp.index(max(temp)))\n",
    "\n",
    "\n",
    "if (abs(lengths[0]-lengths[1]) <= 20):\n",
    "    start_point = (int((edges[index[0]][0]+edges[index[1]][0])/2), int((edges[index[0]][1]+edges[index[1]][1])/2))\n",
    "    end_point = (int((edges[index[0]][2]+edges[index[1]][2])/2), int((edges[index[0]][3]+edges[index[1]][3])/2))\n",
    "else:\n",
    "    start_point = (edges[lengths.index(max(lengths))][0],edges[lengths.index(max(lengths))][1])\n",
    "    end_point = (edges[lengths.index(max(lengths))][2], edges[lengths.index(max(lengths))][3])\n",
    "\n",
    "cv2.line(roi2, start_point, end_point, (0,0,255), 1)"
   ]
  },
  {
   "cell_type": "code",
   "execution_count": 746,
   "metadata": {},
   "outputs": [
    {
     "name": "stdout",
     "output_type": "stream",
     "text": [
      "snow_level_metric: 0.49227\n"
     ]
    }
   ],
   "source": [
    "pole_length = ((start_point[0]-end_point[0])**2 + (start_point[1]-end_point[1])**2)**0.5\n",
    "snow_level = initial_pole - pole_length\n",
    "\n",
    "snow_level_metric = snow_level/pixel_to_metric  #angle of the pole is neglected because only edges with 90 +- 5 is taken and in worst case sin(85) = 0.99\n",
    "snow_level_metric = round(snow_level_metric,5)\n",
    "print(\"snow_level_metric:\",snow_level_metric)"
   ]
  },
  {
   "cell_type": "code",
   "execution_count": 747,
   "metadata": {},
   "outputs": [
    {
     "data": {
      "text/plain": [
       "array([[[165, 147, 150],\n",
       "        [162, 148, 150],\n",
       "        [158, 149, 149],\n",
       "        ...,\n",
       "        [183, 183, 183],\n",
       "        [183, 183, 183],\n",
       "        [183, 183, 183]],\n",
       "\n",
       "       [[165, 147, 150],\n",
       "        [162, 148, 150],\n",
       "        [158, 149, 150],\n",
       "        ...,\n",
       "        [187, 187, 187],\n",
       "        [187, 187, 187],\n",
       "        [187, 187, 187]],\n",
       "\n",
       "       [[165, 147, 150],\n",
       "        [163, 148, 150],\n",
       "        [159, 150, 150],\n",
       "        ...,\n",
       "        [191, 191, 191],\n",
       "        [191, 191, 191],\n",
       "        [191, 191, 191]],\n",
       "\n",
       "       ...,\n",
       "\n",
       "       [[140, 121, 124],\n",
       "        [140, 121, 124],\n",
       "        [140, 121, 124],\n",
       "        ...,\n",
       "        [158, 158, 158],\n",
       "        [158, 158, 158],\n",
       "        [158, 158, 158]],\n",
       "\n",
       "       [[140, 121, 124],\n",
       "        [140, 121, 124],\n",
       "        [140, 121, 124],\n",
       "        ...,\n",
       "        [158, 158, 158],\n",
       "        [158, 158, 158],\n",
       "        [159, 159, 159]],\n",
       "\n",
       "       [[140, 121, 124],\n",
       "        [140, 121, 124],\n",
       "        [140, 121, 124],\n",
       "        ...,\n",
       "        [159, 159, 159],\n",
       "        [159, 159, 159],\n",
       "        [159, 159, 159]]], dtype=uint8)"
      ]
     },
     "execution_count": 747,
     "metadata": {},
     "output_type": "execute_result"
    }
   ],
   "source": [
    "cv2.putText(roi2, str(snow_level_metric), (30,434), cv2.FONT_HERSHEY_SIMPLEX, 0.6, (0,255,0), 2)\n",
    "cv2.putText(roi2, \"mts\", (30,454), cv2.FONT_HERSHEY_SIMPLEX, 0.6, (0,255,0), 2)"
   ]
  },
  {
   "cell_type": "code",
   "execution_count": 2,
   "metadata": {},
   "outputs": [
    {
     "data": {
      "text/plain": [
       "-1"
      ]
     },
     "execution_count": 2,
     "metadata": {},
     "output_type": "execute_result"
    }
   ],
   "source": [
    "cv2.namedWindow('roi',cv2.WINDOW_NORMAL)\n",
    "cv2.imshow('roi',roi2)\n",
    "\n",
    "cv2.waitKey(0)"
   ]
  },
  {
   "cell_type": "code",
   "execution_count": 749,
   "metadata": {},
   "outputs": [
    {
     "data": {
      "text/plain": [
       "True"
      ]
     },
     "execution_count": 749,
     "metadata": {},
     "output_type": "execute_result"
    }
   ],
   "source": [
    "cv2.imwrite(\"field 1-2 edited.jpg\", roi2)\n",
    "cv2.imwrite(\"field 1-2 binary.jpg\", roi)"
   ]
  },
  {
   "cell_type": "code",
   "execution_count": null,
   "metadata": {},
   "outputs": [],
   "source": []
  }
 ],
 "metadata": {
  "kernelspec": {
   "display_name": "Python 3",
   "language": "python",
   "name": "python3"
  },
  "language_info": {
   "codemirror_mode": {
    "name": "ipython",
    "version": 3
   },
   "file_extension": ".py",
   "mimetype": "text/x-python",
   "name": "python",
   "nbconvert_exporter": "python",
   "pygments_lexer": "ipython3",
   "version": "3.7.6"
  }
 },
 "nbformat": 4,
 "nbformat_minor": 4
}
