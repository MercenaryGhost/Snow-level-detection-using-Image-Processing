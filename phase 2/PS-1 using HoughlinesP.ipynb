{
 "cells": [
  {
   "cell_type": "code",
   "execution_count": 1,
   "metadata": {},
   "outputs": [],
   "source": [
    "import numpy as np\n",
    "import cv2\n",
    "import tracemalloc\n",
    "#tracemalloc.start()\n",
    "                # we will read the image directly as a grayscale image\n",
    "img = cv2.imread('sample 2.png', cv2.IMREAD_GRAYSCALE) # gaussian filter is not used explicitly as it is already included in the canny function itself\n",
    "drawn_image = cv2.imread(\"sample 2.png\")"
   ]
  },
  {
   "cell_type": "code",
   "execution_count": 2,
   "metadata": {},
   "outputs": [],
   "source": [
    "img = cv2.Canny(img,50,200)\n",
    "#img = cv2.Sobel(img,cv2.CV_8U,2,2,7)\n",
    "#img = cv2.dilate(img, None, iterations = 1)  # increases white portion by using a kernal such that atleast one element within should be white.\n",
    "#img = cv2.erode(img, None, iterations = 1)   # reduces white portion by using a kernal such that all elements within should be white.\n",
    "\n",
    "# I'm not using above functions for saving processing time in the later part of the code (for finding length). "
   ]
  },
  {
   "cell_type": "code",
   "execution_count": 3,
   "metadata": {},
   "outputs": [
    {
     "data": {
      "text/plain": [
       "(339, 602)"
      ]
     },
     "execution_count": 3,
     "metadata": {},
     "output_type": "execute_result"
    }
   ],
   "source": [
    "h,w = img.shape  #image dimensions in (no. of rows, no. of columns)\n",
    "h,w"
   ]
  },
  {
   "cell_type": "code",
   "execution_count": 5,
   "metadata": {},
   "outputs": [
    {
     "name": "stdout",
     "output_type": "stream",
     "text": [
      "[[[ 79 181 403 181]]\n",
      "\n",
      " [[ 79  81 402  81]]\n",
      "\n",
      " [[ 79 131 403 131]]\n",
      "\n",
      " [[ 79 176 402 176]]\n",
      "\n",
      " [[ 79 126 403 126]]\n",
      "\n",
      " [[ 79 231 403 231]]\n",
      "\n",
      " [[ 79  76 403  76]]\n",
      "\n",
      " [[ 81 226 401 226]]\n",
      "\n",
      " [[234 273 234  34]]\n",
      "\n",
      " [[335 271 335  34]]\n",
      "\n",
      " [[129 273 129  34]]\n",
      "\n",
      " [[330 273 330  34]]\n",
      "\n",
      " [[229 271 229  34]]\n",
      "\n",
      " [[134 273 134  34]]] 14\n"
     ]
    }
   ],
   "source": [
    "lines = cv2.HoughLinesP(img,1,np.pi/180,150,maxLineGap = 40)  # HoughLines function gives an output of a 2d-array containing rho and theta values for the corresponding line equations which crossed the vote limit of 200.  \n",
    "no_of_lines = len(lines) # this gives no. of edges lines identified and crossed vote limit by hough transformation.\n",
    "print(lines,no_of_lines)            "
   ]
  },
  {
   "cell_type": "code",
   "execution_count": 6,
   "metadata": {},
   "outputs": [
    {
     "data": {
      "text/plain": [
       "array([0, 0, 0, 0, 0, 0, 0, 0, 0, 0, 0, 0, 0, 0])"
      ]
     },
     "execution_count": 6,
     "metadata": {},
     "output_type": "execute_result"
    }
   ],
   "source": [
    "line_lengths = np.zeros(no_of_lines,dtype = int)  # to record the line lengths.\n",
    "line_spacing = []\n",
    "line_lengths  \n",
    "#lines[2][0][0]\n",
    "#line = lines[0]\n",
    "#round(math.degrees(line[0][1]))  # just for calculation purposes"
   ]
  },
  {
   "cell_type": "code",
   "execution_count": 7,
   "metadata": {},
   "outputs": [
    {
     "data": {
      "text/plain": [
       "array([324, 323, 324, 323, 324, 324, 324, 320, 239, 237, 239, 239, 237,\n",
       "       239])"
      ]
     },
     "execution_count": 7,
     "metadata": {},
     "output_type": "execute_result"
    }
   ],
   "source": [
    "import math\n",
    "\n",
    "for i in range(0,no_of_lines):\n",
    "    y = lines[i][0][3] - lines[i][0][1]\n",
    "    x = lines[i][0][2] - lines[i][0][0]\n",
    "    line_lengths[i] = math.sqrt(y**2 + x**2)\n",
    "    \n",
    "line_lengths"
   ]
  },
  {
   "cell_type": "code",
   "execution_count": 34,
   "metadata": {},
   "outputs": [
    {
     "data": {
      "text/plain": [
       "[['the lines 0 and 1 are parallel', 4]]"
      ]
     },
     "execution_count": 34,
     "metadata": {},
     "output_type": "execute_result"
    }
   ],
   "source": [
    "for i in range(0,no_of_lines-1):\n",
    "    for j in range(i+1,no_of_lines):\n",
    "        y = lines[i][0][3] - lines[i][0][1]\n",
    "        x = lines[i][0][2] - lines[i][0][0]\n",
    "        if (x != 0):\n",
    "            a = round(np.degrees(np.arctan(y/x)))\n",
    "        else:\n",
    "            a = 90\n",
    "        y1 = lines[j][0][3] - lines[j][0][1]\n",
    "        x1 = lines[j][0][2] - lines[j][0][0]\n",
    "        if (x != 0):\n",
    "            b = round(np.degrees(np.arctan(y/x)))\n",
    "        else:\n",
    "            b = 90\n",
    "        b = round(np.degrees(np.arctan(y1/x1)))\n",
    "        if(a == b):\n",
    "            midy = (lines[i][0][3] + lines[i][0][1])/2\n",
    "            midx = (lines[i][0][2] + lines[i][0][0])/2\n",
    "            midy1 = (lines[j][0][3] + lines[j][0][1])/2\n",
    "            midx1 = (lines[j][0][2] + lines[j][0][0])/2\n",
    "            string = \"the lines \"+str(i)+\" and \"+str(j)+\" are parallel\"\n",
    "            dist = round(math.sqrt((midy1-midy)**2 + (midx1-midx)**2))\n",
    "            line_spacing.append([string,dist])\n",
    "        else:\n",
    "            string = \"the lines \"+str(i)+\" and \"+str(j)+\" are not parallel\"\n",
    "            dist = 0\n",
    "            line_spacing.append([string,dist])\n",
    "            \n",
    "line_spacing"
   ]
  },
  {
   "cell_type": "code",
   "execution_count": 23,
   "metadata": {},
   "outputs": [],
   "source": [
    "for i in range(len(lines)):\n",
    "    cv2.line(drawn_image,(lines[i][0][0],lines[i][0][1]),(lines[i][0][2],lines[i][0][3]), color = (0,255,0), thickness = 2)"
   ]
  },
  {
   "cell_type": "code",
   "execution_count": 28,
   "metadata": {},
   "outputs": [
    {
     "data": {
      "text/plain": [
       "-1"
      ]
     },
     "execution_count": 28,
     "metadata": {},
     "output_type": "execute_result"
    }
   ],
   "source": [
    "cv2.namedWindow('img',cv2.WINDOW_NORMAL)\n",
    "cv2.imshow('img', img)\n",
    "\n",
    "cv2.waitKey(0)"
   ]
  },
  {
   "cell_type": "code",
   "execution_count": 4,
   "metadata": {},
   "outputs": [
    {
     "data": {
      "text/plain": [
       "True"
      ]
     },
     "execution_count": 4,
     "metadata": {},
     "output_type": "execute_result"
    }
   ],
   "source": [
    "cv2.imwrite('canny sample 2.png', img)"
   ]
  },
  {
   "cell_type": "code",
   "execution_count": 53,
   "metadata": {},
   "outputs": [
    {
     "name": "stdout",
     "output_type": "stream",
     "text": [
      "[ Top 5 ]\n",
      "<ipython-input-52-70f6d9c08e12>:3: size=393 KiB, count=2, average=196 KiB\n",
      "<ipython-input-49-10b1e19b3402>:7: size=147 KiB, count=2, average=73.7 KiB\n",
      "C:\\Users\\Sudhir\\anaconda3\\lib\\json\\decoder.py:353: size=33.5 KiB, count=381, average=90 B\n",
      "C:\\Users\\Sudhir\\anaconda3\\lib\\site-packages\\IPython\\core\\compilerop.py:133: size=14.9 KiB, count=159, average=96 B\n",
      "C:\\Users\\Sudhir\\anaconda3\\lib\\site-packages\\tornado\\gen.py:191: size=12.9 KiB, count=28, average=472 B\n"
     ]
    }
   ],
   "source": [
    "snapshot = tracemalloc.take_snapshot()\n",
    "top_stats = snapshot.statistics('lineno')\n",
    "\n",
    "print(\"[ Top 5 ]\")\n",
    "for stat in top_stats[:5]:\n",
    "    print(stat)"
   ]
  },
  {
   "cell_type": "code",
   "execution_count": null,
   "metadata": {},
   "outputs": [],
   "source": []
  }
 ],
 "metadata": {
  "kernelspec": {
   "display_name": "Python 3",
   "language": "python",
   "name": "python3"
  },
  "language_info": {
   "codemirror_mode": {
    "name": "ipython",
    "version": 3
   },
   "file_extension": ".py",
   "mimetype": "text/x-python",
   "name": "python",
   "nbconvert_exporter": "python",
   "pygments_lexer": "ipython3",
   "version": "3.7.6"
  }
 },
 "nbformat": 4,
 "nbformat_minor": 4
}
