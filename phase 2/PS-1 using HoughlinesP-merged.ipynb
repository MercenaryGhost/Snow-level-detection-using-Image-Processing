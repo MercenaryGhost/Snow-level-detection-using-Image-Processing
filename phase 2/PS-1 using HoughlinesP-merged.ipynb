{
 "cells": [
  {
   "cell_type": "code",
   "execution_count": 37,
   "metadata": {},
   "outputs": [
    {
     "name": "stdout",
     "output_type": "stream",
     "text": [
      "[ Top 5 ]\n",
      "C:\\Users\\Sudhir\\anaconda3\\lib\\selectors.py:314: size=144 KiB, count=3, average=48.0 KiB\n",
      "C:\\Users\\Sudhir\\anaconda3\\lib\\site-packages\\IPython\\core\\compilerop.py:101: size=81.2 KiB, count=1564, average=53 B\n",
      "<ipython-input-37-4973ef602813>:8: size=49.2 KiB, count=2, average=24.6 KiB\n",
      "C:\\Users\\Sudhir\\anaconda3\\lib\\site-packages\\IPython\\core\\compilerop.py:133: size=6878 B, count=67, average=103 B\n",
      "<ipython-input-36-c3de276a43c2>:22: size=4632 B, count=1, average=4632 B\n",
      "C:\\Users\\Sudhir\\anaconda3\\lib\\json\\decoder.py:353: size=4270 B, count=18, average=237 B\n",
      "C:\\Users\\Sudhir\\anaconda3\\lib\\site-packages\\jupyter_client\\session.py:911: size=3543 B, count=5, average=709 B\n",
      "C:\\Users\\Sudhir\\anaconda3\\lib\\site-packages\\IPython\\core\\interactiveshell.py:3107: size=3002 B, count=1, average=3002 B\n",
      "C:\\Users\\Sudhir\\anaconda3\\lib\\site-packages\\IPython\\core\\history.py:709: size=3001 B, count=1, average=3001 B\n",
      "<string>:1: size=2904 B, count=45, average=65 B\n"
     ]
    }
   ],
   "source": [
    "import numpy as np\n",
    "import cv2\n",
    "                # we will read the image directly as a grayscale image\n",
    "img = cv2.imread('sample 4.png', cv2.IMREAD_GRAYSCALE) # gaussian filter is not used explicitly as it is already included in the canny function itself\n",
    "img = cv2.Canny(img,50,200)\n",
    "h,w = img.shape  #image dimensions in (no. of rows, no. of columns)\n",
    "lines = cv2.HoughLinesP(img,1,np.pi/180,150,maxLineGap = 40)  # HoughLines function gives an output of an array with end points.  \n",
    "no_of_lines = len(lines) # this gives no. of edges lines identified and crossed vote limit by hough transformation.\n",
    "line_lengths = np.zeros(no_of_lines,dtype = int)  # to record the line lengths.\n",
    "line_spacing = []\n",
    "line_lengths  \n",
    "import math\n",
    "for i in range(0,no_of_lines):\n",
    "    y = lines[i][0][3] - lines[i][0][1]\n",
    "    x = lines[i][0][2] - lines[i][0][0]\n",
    "    line_lengths[i] = math.sqrt(y**2 + x**2) #for line lengths\n",
    "for i in range(0,no_of_lines-1):\n",
    "    for j in range(i+1,no_of_lines):\n",
    "        y = lines[i][0][3] - lines[i][0][1]\n",
    "        x = lines[i][0][2] - lines[i][0][0]\n",
    "        if (x != 0):\n",
    "            a = round(np.degrees(np.arctan(y/x)))\n",
    "        else:\n",
    "            a = 90\n",
    "        y1 = lines[j][0][3] - lines[j][0][1]\n",
    "        x1 = lines[j][0][2] - lines[j][0][0]\n",
    "        if (x != 0):\n",
    "            b = round(np.degrees(np.arctan(y/x)))\n",
    "        else:\n",
    "            b = 90\n",
    "        b = round(np.degrees(np.arctan(y1/x1)))\n",
    "        if(a == b):\n",
    "            midy = (lines[i][0][3] + lines[i][0][1])/2\n",
    "            midx = (lines[i][0][2] + lines[i][0][0])/2\n",
    "            midy1 = (lines[j][0][3] + lines[j][0][1])/2\n",
    "            midx1 = (lines[j][0][2] + lines[j][0][0])/2\n",
    "            string = \"the lines \"+str(i)+\" and \"+str(j)+\" are parallel\"\n",
    "            dist = round(math.sqrt((midy1-midy)**2 + (midx1-midx)**2))\n",
    "            line_spacing.append([string,dist])\n",
    "        else:\n",
    "            string = \"the lines \"+str(i)+\" and \"+str(j)+\" are not parallel\"\n",
    "            dist = 0\n",
    "            line_spacing.append([string,dist]) # for line spacing\n",
    "            \n",
    "cv2.namedWindow('img',cv2.WINDOW_NORMAL)\n",
    "cv2.imshow('img', img)\n",
    "\n",
    "cv2.waitKey(0)\n",
    "\n",
    "cv2.imwrite('canny image3.jpg', img)\n"
   ]
  },
  {
   "cell_type": "code",
   "execution_count": 5,
   "metadata": {},
   "outputs": [],
   "source": [
    "import lizard\n",
    "i = lizard.analyze_file(\"reference.py\")"
   ]
  },
  {
   "cell_type": "code",
   "execution_count": 9,
   "metadata": {},
   "outputs": [
    {
     "data": {
      "text/plain": [
       "{'filename': 'reference.py',\n",
       " 'nloc': 42,\n",
       " 'function_list': [],\n",
       " 'token_count': 674}"
      ]
     },
     "execution_count": 9,
     "metadata": {},
     "output_type": "execute_result"
    }
   ],
   "source": [
    "i.__dict__"
   ]
  },
  {
   "cell_type": "code",
   "execution_count": 11,
   "metadata": {},
   "outputs": [
    {
     "ename": "AttributeError",
     "evalue": "'list' object has no attribute '__dict__'",
     "output_type": "error",
     "traceback": [
      "\u001b[1;31m---------------------------------------------------------------------------\u001b[0m",
      "\u001b[1;31mAttributeError\u001b[0m                            Traceback (most recent call last)",
      "\u001b[1;32m<ipython-input-11-4011c5fd433b>\u001b[0m in \u001b[0;36m<module>\u001b[1;34m\u001b[0m\n\u001b[1;32m----> 1\u001b[1;33m \u001b[0mi\u001b[0m\u001b[1;33m.\u001b[0m\u001b[0mfunction_list\u001b[0m\u001b[1;33m.\u001b[0m\u001b[0m__dict__\u001b[0m\u001b[1;33m\u001b[0m\u001b[1;33m\u001b[0m\u001b[0m\n\u001b[0m",
      "\u001b[1;31mAttributeError\u001b[0m: 'list' object has no attribute '__dict__'"
     ]
    }
   ],
   "source": [
    "i.function_list.__dict__"
   ]
  },
  {
   "cell_type": "code",
   "execution_count": 18,
   "metadata": {},
   "outputs": [
    {
     "name": "stdout",
     "output_type": "stream",
     "text": [
      "[]\n"
     ]
    }
   ],
   "source": [
    "print (i.function_list)"
   ]
  },
  {
   "cell_type": "code",
   "execution_count": null,
   "metadata": {},
   "outputs": [],
   "source": []
  }
 ],
 "metadata": {
  "kernelspec": {
   "display_name": "Python 3",
   "language": "python",
   "name": "python3"
  },
  "language_info": {
   "codemirror_mode": {
    "name": "ipython",
    "version": 3
   },
   "file_extension": ".py",
   "mimetype": "text/x-python",
   "name": "python",
   "nbconvert_exporter": "python",
   "pygments_lexer": "ipython3",
   "version": "3.7.6"
  }
 },
 "nbformat": 4,
 "nbformat_minor": 4
}
